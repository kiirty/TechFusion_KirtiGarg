#These are the pre-defined libraries for different purposes.
import pandas as pd
from sklearn.model_selection import train_test_split #it will split data into training and testing parts.
from sklearn.ensemble import RandomForestRegressor #This is our main model which predict the multiple outputs.
from sklearn.preprocessing import LabelEncoder   
from sklearn.metrics import mean_absolute_error, r2_score

# Load the dataset
df = pd.read_csv("Crop_recommendationV2.csv")  # Replace with actual file path

# Display first few rows
df.head()

# Identify categorical columns
categorical_columns = df.select_dtypes(include=['object']).columns.tolist()
print("Categorical Columns:", categorical_columns)

# Convert categorical columns into numeric using Label Encoding
from sklearn.preprocessing import LabelEncoder

label_encoders = {}
for col in categorical_columns:
    le = LabelEncoder()
    df[col] = le.fit_transform(df[col])  # Convert categorical to numbers
    label_encoders[col] = le  # Store encoders for later use

# Define Independent (X) and Dependent (y) Variables
X = df.drop(columns=['N','P','K', 'humidity', 'temperature', 'rainfall', 'soil_moisture'])  # Features
y = df[['N','P','K', 'humidity', 'temperature', 'rainfall', 'soil_moisture']]  # Multiple Outputs (Targets)

# Print the shapes
print("X shape:", X.shape)
print("y shape:", y.shape)

Categorical Columns: []
X shape: (2200, 16)
y shape: (2200, 7)
Training Data (X_train): (1760, 16)
Testing Data (X_test): (440, 16)
Training Labels (y_train): (1760, 7)
Testing Labels (y_test): (440, 7)
✅ Model Training Completed!
Predictions:
         N       P       K   humidity  temperature    rainfall  soil_moisture
0  103.31   19.71   51.30  92.294707    28.724345   24.905058      18.769982
1  103.96   18.28   49.22  85.298864    25.894701   49.738523      21.582562
2   49.28   60.04   49.86  92.057474    32.758283  127.274432      21.228237
3   51.67   59.52   49.99  92.076183    32.813298  134.161004      20.862480
4   21.83  133.41  200.39  92.145366    22.603802  111.155997      20.868350
🔹 N: MAE = 10.22, R² = 0.88
🔹 P: MAE = 6.78, R² = 0.94
🔹 K: MAE = 2.73, R² = 1.00
🔹 humidity: MAE = 3.15, R² = 0.96
🔹 temperature: MAE = 2.22, R² = 0.54
🔹 rainfall: MAE = 15.09, R² = 0.79
🔹 soil_moisture: MAE = 5.14, R² = -0.05

from sklearn.model_selection import train_test_split

# Splitting the dataset
X_train, X_test, y_train, y_test = train_test_split(X, y, test_size=0.2, random_state=42)

# Print dataset shapes
print("Training Data (X_train):", X_train.shape)
print("Testing Data (X_test):", X_test.shape)
print("Training Labels (y_train):", y_train.shape)
print("Testing Labels (y_test):", y_test.shape)


from sklearn.ensemble import RandomForestRegressor

# Train a Multi-Output Random Forest Model(This is our main model).
rf_model = RandomForestRegressor(n_estimators=100, random_state=42)
rf_model.fit(X_train, y_train)

print("✅ Model Training Completed!")

# Make predictions on the test set(which is 
y_pred = rf_model.predict(X_test)

# Convert predictions to a DataFrame
y_pred_df = pd.DataFrame(y_pred, columns=y.columns)

# Display the first few predictions
print("Predictions:\n", y_pred_df.head())

from sklearn.metrics import mean_absolute_error, r2_score

# Compute MAE and R² Score for each target variable
mae = mean_absolute_error(y_test, y_pred, multioutput='raw_values')
r2 = r2_score(y_test, y_pred, multioutput='raw_values')

# Print Evaluation Metrics
for i, col in enumerate(y.columns):
    print(f"🔹 {col}: MAE = {mae[i]:.2f}, R² = {r2[i]:.2f}")

Categorical Columns: []
X shape: (2200, 16)
y shape: (2200, 7)
Training Data (X_train): (1760, 16)
Testing Data (X_test): (440, 16)
Training Labels (y_train): (1760, 7)
Testing Labels (y_test): (440, 7)
✅ Model Training Completed!
Predictions:
         N       P       K   humidity  temperature    rainfall  soil_moisture
0  103.31   19.71   51.30  92.294707    28.724345   24.905058      18.769982
1  103.96   18.28   49.22  85.298864    25.894701   49.738523      21.582562
2   49.28   60.04   49.86  92.057474    32.758283  127.274432      21.228237
3   51.67   59.52   49.99  92.076183    32.813298  134.161004      20.862480
4   21.83  133.41  200.39  92.145366    22.603802  111.155997      20.868350
🔹 N: MAE = 10.22, R² = 0.88
🔹 P: MAE = 6.78, R² = 0.94
🔹 K: MAE = 2.73, R² = 1.00
🔹 humidity: MAE = 3.15, R² = 0.96
🔹 temperature: MAE = 2.22, R² = 0.54
🔹 rainfall: MAE = 15.09, R² = 0.79
🔹 soil_moisture: MAE = 5.14, R² = -0.05


