import pandas as pd

# Loading dataset 
file_path = "cropdata_dataset.csv"  
df = pd.read_csv("cropdata_dataset.csv")

# Display first 5 rows of datset.
print(df.head())

from sklearn.preprocessing import LabelEncoder

# Encode categorical features.
categorical_columns = ['crop ID', 'soil_type', 'Seedling Stage']  # Update column names if needed
label_encoders = {}

for col in categorical_columns:
    le = LabelEncoder()
    df[col] = le.fit_transform(df[col])  # Convert categories to numbers
    label_encoders[col] = le

df = df.fillna(df.mean())

from sklearn.model_selection import train_test_split

# Define features (X) and target outputs (y)
X = df.drop(columns=['MOI', 'humidity', 'temp'])  # Independent variables
y = df[['MOI', 'humidity', 'temp']]  # Dependent variables (Multiple Outputs)

# Split data (80% training, 20% testing)
X_train, X_test, y_train, y_test = train_test_split(X, y, test_size=0.2, random_state=42)

print(f"Training samples: {X_train.shape[0]}, Testing samples: {X_test.shape[0]}")

pip install tensorflow

import tensorflow as tf
from tensorflow import keras
from tensorflow.keras.models import Sequential
from tensorflow.keras.layers import Dense, Dropout

# Define model architecture
model = Sequential([
    Dense(128, activation='relu', input_shape=(X_train.shape[1],)),  # Input layer
    Dense(64, activation='relu'),
    Dense(32, activation='relu'),
    Dense(3)  # Output layer (3 neurons for multiple outputs: MOI, Humidity, temp)
])

# Compile the model
model.compile(optimizer='adam', loss='mse', metrics=['mae'])  # Mean Squared Error (MSE) for regression

# Display model summary
model.summary()


# Train the model
history = model.fit(X_train, y_train, epochs=50, batch_size=32, validation_data=(X_test, y_test))


loss, mae = model.evaluate(X_test, y_test)
print(f"Test Loss: {loss}, Test MAE: {mae}")

# Make predictions on test data
y_pred = model.predict(X_test)

# Convert predictions into a DataFrame
y_pred_df = pd.DataFrame(y_pred, columns=['Predicted_MOI', 'Predicted_Humidity', 'Predicted_pH'])

# Display first few predictions
print(y_pred_df.head())


  crop ID   soil_type Seedling Stage  MOI  temp  humidity  result
0   Wheat  Black Soil    Germination    1    25      80.0       1
1   Wheat  Black Soil    Germination    2    26      77.0       1
2   Wheat  Black Soil    Germination    3    27      74.0       1
3   Wheat  Black Soil    Germination    4    28      71.0       1
4   Wheat  Black Soil    Germination    5    29      68.0       1
Training samples: 13128, Testing samples: 3283
Note: you may need to restart the kernel to use updated packages.Collecting tensorflow

  Downloading tensorflow-2.18.0-cp312-cp312-win_amd64.whl.metadata (3.3 kB)
Collecting tensorflow-intel==2.18.0 (from tensorflow)
  Downloading tensorflow_intel-2.18.0-cp312-cp312-win_amd64.whl.metadata (4.9 kB)
Collecting absl-py>=1.0.0 (from tensorflow-intel==2.18.0->tensorflow)
  Using cached absl_py-2.1.0-py3-none-any.whl.metadata (2.3 kB)
Collecting astunparse>=1.6.0 (from tensorflow-intel==2.18.0->tensorflow)
  Downloading astunparse-1.6.3-py2.py3-none-any.whl.metadata (4.4 kB)
Collecting flatbuffers>=24.3.25 (from tensorflow-intel==2.18.0->tensorflow)
  Downloading flatbuffers-25.2.10-py2.py3-none-any.whl.metadata (875 bytes)
Collecting gast!=0.5.0,!=0.5.1,!=0.5.2,>=0.2.1 (from tensorflow-intel==2.18.0->tensorflow)
  Downloading gast-0.6.0-py3-none-any.whl.metadata (1.3 kB)
Collecting google-pasta>=0.1.1 (from tensorflow-intel==2.18.0->tensorflow)
  Downloading google_pasta-0.2.0-py3-none-any.whl.metadata (814 bytes)
Collecting libclang>=13.0.0 (from tensorflow-intel==2.18.0->tensorflow)
  Using cached libclang-18.1.1-py2.py3-none-win_amd64.whl.metadata (5.3 kB)
Collecting opt-einsum>=2.3.2 (from tensorflow-intel==2.18.0->tensorflow)
  Downloading opt_einsum-3.4.0-py3-none-any.whl.metadata (6.3 kB)
Requirement already satisfied: packaging in c:\users\91639\appdata\local\programs\python\python312\lib\site-packages (from tensorflow-intel==2.18.0->tensorflow) (24.1)
Collecting protobuf!=4.21.0,!=4.21.1,!=4.21.2,!=4.21.3,!=4.21.4,!=4.21.5,<6.0.0dev,>=3.20.3 (from tensorflow-intel==2.18.0->tensorflow)
  Downloading protobuf-5.29.3-cp310-abi3-win_amd64.whl.metadata (592 bytes)
Requirement already satisfied: requests<3,>=2.21.0 in c:\users\91639\appdata\local\programs\python\python312\lib\site-packages (from tensorflow-intel==2.18.0->tensorflow) (2.32.3)
Requirement already satisfied: setuptools in c:\users\91639\appdata\local\programs\python\python312\lib\site-packages (from tensorflow-intel==2.18.0->tensorflow) (71.1.0)
Requirement already satisfied: six>=1.12.0 in c:\users\91639\appdata\local\programs\python\python312\lib\site-packages (from tensorflow-intel==2.18.0->tensorflow) (1.16.0)
...
   ----------------------- ---------------- 233.1/390.3 MB 1.5 MB/s eta 0:01:48
   ----------------------- ---------------- 233.2/390.3 MB 1.4 MB/s eta 0:01:49
   ----------------------- ---------------- 233.3/390.3 MB 1.4 MB/s eta 0:01:49
   ----------------------- ---------------- 233.3/390.3 MB 1.4 MB/s eta 0:01:49
Output is truncated. View as a scrollable element or open in a text editor. Adjust cell output settings...

[notice] A new release of pip is available: 24.0 -> 25.0.1
[notice] To update, run: python.exe -m pip install --upgrade pip
   ----------------------- ---------------- 233.3/390.3 MB 1.4 MB/s eta 0:01:49
   ----------------------- ---------------- 233.3/390.3 MB 1.4 MB/s eta 0:01:49
   ----------------------- ---------------- 233.3/390.3 MB 1.4 MB/s eta 0:01:49
   ----------------------- ---------------- 233.3/390.3 MB 1.4 MB/s eta 0:01:49
   ----------------------- ---------------- 233.3/390.3 MB 1.4 MB/s eta 0:01:49
   ----------------------- ---------------- 233.3/390.3 MB 1.4 MB/s eta 0:01:49
   ----------------------- ---------------- 233.3/390.3 MB 1.4 MB/s eta 0:01:54
   ----------------------- ---------------- 233.3/390.3 MB 1.4 MB/s eta 0:01:54
   ----------------------- ---------------- 233.4/390.3 MB 1.4 MB/s eta 0:01:56
   ----------------------- ---------------- 233.4/390.3 MB 1.4 MB/s eta 0:01:56
   ----------------------- ---------------- 233.4/390.3 MB 1.4 MB/s eta 0:01:56
   ----------------------- ---------------- 233.4/390.3 MB 1.4 MB/s eta 0:01:56
   ----------------------- ---------------- 233.4/390.3 MB 1.4 MB/s eta 0:01:56
   ----------------------- ---------------- 233.4/390.3 MB 1.4 MB/s eta 0:01:56
   ----------------------- ---------------- 233.4/390.3 MB 1.4 MB/s eta 0:01:56
   ----------------------- ---------------- 233.4/390.3 MB 1.4 MB/s eta 0:01:56
   ----------------------- ---------------- 233.5/390.3 MB 1.3 MB/s eta 0:02:01
   ----------------------- ---------------- 233.6/390.3 MB 1.3 MB/s eta 0:02:00
   ----------------------- ---------------- 233.6/390.3 MB 1.3 MB/s eta 0:02:00
   ----------------------- ---------------- 233.7/390.3 MB 1.3 MB/s eta 0:02:00
   ----------------------- ---------------- 233.8/390.3 MB 1.3 MB/s eta 0:02:01
   ----------------------- ---------------- 233.9/390.3 MB 1.3 MB/s eta 0:02:01
   ----------------------- ---------------- 234.1/390.3 MB 1.3 MB/s eta 0:02:00
   ------------------------ --------------- 234.2/390.3 MB 1.3 MB/s eta 0:02:00
   ------------------------ --------------- 234.2/390.3 MB 1.3 MB/s eta 0:02:00
...
   ---------------------------------------- 87.5/87.5 kB 1.2 MB/s eta 0:00:00
Downloading mdurl-0.1.2-py3-none-any.whl (10.0 kB)
Installing collected packages: namex, libclang, flatbuffers, wrapt, wheel, werkzeug, typing-extensions, termcolor, tensorboard-data-server, protobuf, opt-einsum, ml-dtypes, mdurl, markdown, h5py, grpcio, google-pasta, gast, absl-py, tensorboard, optree, markdown-it-py, astunparse, rich, keras, tensorflow-intel, tensorflow
Successfully installed absl-py-2.1.0 astunparse-1.6.3 flatbuffers-25.2.10 gast-0.6.0 google-pasta-0.2.0 grpcio-1.70.0 h5py-3.13.0 keras-3.8.0 libclang-18.1.1 markdown-3.7 markdown-it-py-3.0.0 mdurl-0.1.2 ml-dtypes-0.4.1 namex-0.0.8 opt-einsum-3.4.0 optree-0.14.0 protobuf-5.29.3 rich-13.9.4 tensorboard-2.18.0 tensorboard-data-server-0.7.2 tensorflow-2.18.0 tensorflow-intel-2.18.0 termcolor-2.5.0 typing-extensions-4.12.2 werkzeug-3.1.3 wheel-0.45.1 wrapt-1.17.2
Output is truncated. View as a scrollable element or open in a text editor. Adjust cell output settings...
C:\Users\91639\AppData\Local\Programs\Python\Python312\Lib\site-packages\keras\src\layers\core\dense.py:87: UserWarning: Do not pass an `input_shape`/`input_dim` argument to a layer. When using Sequential models, prefer using an `Input(shape)` object as the first layer in the model instead.
  super().__init__(activity_regularizer=activity_regularizer, **kwargs)
Epoch 1/50
411/411 ━━━━━━━━━━━━━━━━━━━━ 7s 7ms/step - loss: 1143.4269 - mae: 26.0757 - val_loss: 423.6324 - val_mae: 16.1940
Epoch 2/50
411/411 ━━━━━━━━━━━━━━━━━━━━ 2s 4ms/step - loss: 403.8793 - mae: 15.5367 - val_loss: 370.8904 - val_mae: 14.8543
Epoch 3/50
411/411 ━━━━━━━━━━━━━━━━━━━━ 2s 4ms/step - loss: 369.5316 - mae: 14.7071 - val_loss: 362.9181 - val_mae: 14.8449
Epoch 4/50
411/411 ━━━━━━━━━━━━━━━━━━━━ 2s 4ms/step - loss: 361.5302 - mae: 14.5174 - val_loss: 358.1595 - val_mae: 14.4026
Epoch 5/50
411/411 ━━━━━━━━━━━━━━━━━━━━ 2s 4ms/step - loss: 359.6070 - mae: 14.4776 - val_loss: 356.2446 - val_mae: 14.3736
Epoch 6/50
411/411 ━━━━━━━━━━━━━━━━━━━━ 2s 4ms/step - loss: 353.5606 - mae: 14.2712 - val_loss: 355.7975 - val_mae: 14.4660
Epoch 7/50
411/411 ━━━━━━━━━━━━━━━━━━━━ 2s 4ms/step - loss: 354.9335 - mae: 14.3515 - val_loss: 355.0805 - val_mae: 14.3133
Epoch 8/50
411/411 ━━━━━━━━━━━━━━━━━━━━ 2s 4ms/step - loss: 357.1358 - mae: 14.4109 - val_loss: 355.4697 - val_mae: 14.3127
Epoch 9/50
411/411 ━━━━━━━━━━━━━━━━━━━━ 3s 4ms/step - loss: 357.7094 - mae: 14.3824 - val_loss: 355.4042 - val_mae: 14.1186
Epoch 10/50
411/411 ━━━━━━━━━━━━━━━━━━━━ 2s 4ms/step - loss: 354.8758 - mae: 14.3262 - val_loss: 355.7511 - val_mae: 14.2381
Epoch 11/50
411/411 ━━━━━━━━━━━━━━━━━━━━ 2s 4ms/step - loss: 357.0364 - mae: 14.3706 - val_loss: 355.1402 - val_mae: 13.9872
Epoch 12/50
411/411 ━━━━━━━━━━━━━━━━━━━━ 2s 4ms/step - loss: 350.7834 - mae: 14.2081 - val_loss: 357.3054 - val_mae: 14.5719
Epoch 13/50
...
Epoch 49/50
411/411 ━━━━━━━━━━━━━━━━━━━━ 2s 6ms/step - loss: 354.8022 - mae: 14.2758 - val_loss: 357.4578 - val_mae: 14.3578
Epoch 50/50
411/411 ━━━━━━━━━━━━━━━━━━━━ 2s 5ms/step - loss: 350.2352 - mae: 14.2373 - val_loss: 352.5128 - val_mae: 14.4049
Output is truncated. View as a scrollable element or open in a text editor. Adjust cell output settings...
103/103 ━━━━━━━━━━━━━━━━━━━━ 1s 7ms/step - loss: 356.1028 - mae: 14.4713
Test Loss: 352.51275634765625, Test MAE: 14.404942512512207
103/103 ━━━━━━━━━━━━━━━━━━━━ 1s 7ms/step
   Predicted_MOI  Predicted_Humidity  Predicted_pH
0      41.842411           52.273712     34.147945
1      46.139027           71.616638     25.022171
2      48.100746           70.424492     27.028593
3      48.769497           72.386841     26.076601
4      63.659687           48.723019     36.753632
